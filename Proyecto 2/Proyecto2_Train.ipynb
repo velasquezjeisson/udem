{
 "cells": [
  {
   "cell_type": "code",
   "execution_count": 1,
   "id": "21455ed7",
   "metadata": {},
   "outputs": [],
   "source": [
    "import pandas as pd\n",
    "import numpy as np\n",
    "import matplotlib.pyplot as plt\n",
    "import os\n",
    "import sys\n",
    "import sklearn\n",
    "from sklearn.model_selection import train_test_split"
   ]
  },
  {
   "cell_type": "markdown",
   "id": "3a041caa",
   "metadata": {},
   "source": [
    "CONEXION A BASE DE DATO"
   ]
  },
  {
   "cell_type": "code",
   "execution_count": 2,
   "id": "293cc0c0",
   "metadata": {},
   "outputs": [],
   "source": [
    "!wget -q https://github.com/velasquezjeisson/udem/raw/refs/heads/master/Proyecto%202/MateriasPrimasConsolidado.xlsx"
   ]
  },
  {
   "cell_type": "code",
   "execution_count": 3,
   "id": "4ed87dc9",
   "metadata": {},
   "outputs": [
    {
     "name": "stderr",
     "output_type": "stream",
     "text": [
      "/tmp/ipykernel_27037/971501995.py:5: UserWarning: Parsing dates in %Y-%m-%d %H:%M:%S.%f format when dayfirst=True was specified. Pass `dayfirst=False` or specify a format to silence this warning.\n",
      "  df['Time_Stamp'] = pd.to_datetime(df['Time_Stamp'], dayfirst=True)\n"
     ]
    },
    {
     "data": {
      "text/html": [
       "<div>\n",
       "<style scoped>\n",
       "    .dataframe tbody tr th:only-of-type {\n",
       "        vertical-align: middle;\n",
       "    }\n",
       "\n",
       "    .dataframe tbody tr th {\n",
       "        vertical-align: top;\n",
       "    }\n",
       "\n",
       "    .dataframe thead th {\n",
       "        text-align: right;\n",
       "    }\n",
       "</style>\n",
       "<table border=\"1\" class=\"dataframe\">\n",
       "  <thead>\n",
       "    <tr style=\"text-align: right;\">\n",
       "      <th></th>\n",
       "      <th>PV_Final</th>\n",
       "    </tr>\n",
       "    <tr>\n",
       "      <th>Time_Stamp</th>\n",
       "      <th></th>\n",
       "    </tr>\n",
       "  </thead>\n",
       "  <tbody>\n",
       "    <tr>\n",
       "      <th>2024-11-28 00:33:00</th>\n",
       "      <td>1564.600590</td>\n",
       "    </tr>\n",
       "    <tr>\n",
       "      <th>2024-11-28 00:34:00</th>\n",
       "      <td>199.658432</td>\n",
       "    </tr>\n",
       "    <tr>\n",
       "      <th>2024-11-28 01:25:00</th>\n",
       "      <td>9.950685</td>\n",
       "    </tr>\n",
       "    <tr>\n",
       "      <th>2024-11-28 01:27:00</th>\n",
       "      <td>250.885925</td>\n",
       "    </tr>\n",
       "    <tr>\n",
       "      <th>2024-11-28 01:44:00</th>\n",
       "      <td>99.933740</td>\n",
       "    </tr>\n",
       "  </tbody>\n",
       "</table>\n",
       "</div>"
      ],
      "text/plain": [
       "                        PV_Final\n",
       "Time_Stamp                      \n",
       "2024-11-28 00:33:00  1564.600590\n",
       "2024-11-28 00:34:00   199.658432\n",
       "2024-11-28 01:25:00     9.950685\n",
       "2024-11-28 01:27:00   250.885925\n",
       "2024-11-28 01:44:00    99.933740"
      ]
     },
     "execution_count": 3,
     "metadata": {},
     "output_type": "execute_result"
    }
   ],
   "source": [
    "df = pd.read_excel('~/MateriasPrimasConsolidado.xlsx', sheet_name='MateriasPrimasConsolidado', header=0, index_col=0)\n",
    "df = df.dropna(axis=0, how='any')\n",
    "df = df.dropna(axis=1, how='any')\n",
    "df = df.drop(axis=1, labels=['Local_Timestamp','TimeStampDb','Partida','Solicitud','Valor_SP_Final','SP_Activo_Final','MateriaPrima','Equipo'])\n",
    "df['Time_Stamp'] = pd.to_datetime(df['Time_Stamp'], dayfirst=True)\n",
    "df.set_index('Time_Stamp', inplace=True)\n",
    "\n",
    "\n",
    "df.head()"
   ]
  },
  {
   "cell_type": "code",
   "execution_count": 4,
   "id": "eca727e6",
   "metadata": {},
   "outputs": [],
   "source": [
    "df_diario = df.resample('D').sum()"
   ]
  },
  {
   "cell_type": "code",
   "execution_count": 5,
   "id": "825d68ef",
   "metadata": {},
   "outputs": [
    {
     "data": {
      "text/plain": [
       "Text(0.5, 1.0, 'Histograma de PV_Final (filtrado)')"
      ]
     },
     "execution_count": 5,
     "metadata": {},
     "output_type": "execute_result"
    },
    {
     "data": {
      "image/png": "[encoded data removed]",
      "text/plain": [
       "<Figure size 640x480 with 1 Axes>"
      ]
     },
     "metadata": {},
     "output_type": "display_data"
    }
   ],
   "source": [
    "df_filtrado = df_diario[df_diario[\"PV_Final\"] > 0]\n",
    "df_filtrado[\"PV_Final\"].hist(bins=50, alpha=0.5, color='blue', edgecolor='black')\n",
    "plt.title('Histograma de PV_Final (filtrado)')"
   ]
  },
  {
   "cell_type": "code",
   "execution_count": 6,
   "id": "34a362e5",
   "metadata": {},
   "outputs": [
    {
     "name": "stderr",
     "output_type": "stream",
     "text": [
      "/tmp/ipykernel_27037/3785396640.py:3: SettingWithCopyWarning: \n",
      "A value is trying to be set on a copy of a slice from a DataFrame.\n",
      "Try using .loc[row_indexer,col_indexer] = value instead\n",
      "\n",
      "See the caveats in the documentation: https://pandas.pydata.org/pandas-docs/stable/user_guide/indexing.html#returning-a-view-versus-a-copy\n",
      "  df_filtrado['PV_Final-'+str(i)] = df_filtrado['PV_Final'].shift(i)\n",
      "/tmp/ipykernel_27037/3785396640.py:3: SettingWithCopyWarning: \n",
      "A value is trying to be set on a copy of a slice from a DataFrame.\n",
      "Try using .loc[row_indexer,col_indexer] = value instead\n",
      "\n",
      "See the caveats in the documentation: https://pandas.pydata.org/pandas-docs/stable/user_guide/indexing.html#returning-a-view-versus-a-copy\n",
      "  df_filtrado['PV_Final-'+str(i)] = df_filtrado['PV_Final'].shift(i)\n",
      "/tmp/ipykernel_27037/3785396640.py:3: SettingWithCopyWarning: \n",
      "A value is trying to be set on a copy of a slice from a DataFrame.\n",
      "Try using .loc[row_indexer,col_indexer] = value instead\n",
      "\n",
      "See the caveats in the documentation: https://pandas.pydata.org/pandas-docs/stable/user_guide/indexing.html#returning-a-view-versus-a-copy\n",
      "  df_filtrado['PV_Final-'+str(i)] = df_filtrado['PV_Final'].shift(i)\n",
      "/tmp/ipykernel_27037/3785396640.py:3: SettingWithCopyWarning: \n",
      "A value is trying to be set on a copy of a slice from a DataFrame.\n",
      "Try using .loc[row_indexer,col_indexer] = value instead\n",
      "\n",
      "See the caveats in the documentation: https://pandas.pydata.org/pandas-docs/stable/user_guide/indexing.html#returning-a-view-versus-a-copy\n",
      "  df_filtrado['PV_Final-'+str(i)] = df_filtrado['PV_Final'].shift(i)\n",
      "/tmp/ipykernel_27037/3785396640.py:3: SettingWithCopyWarning: \n",
      "A value is trying to be set on a copy of a slice from a DataFrame.\n",
      "Try using .loc[row_indexer,col_indexer] = value instead\n",
      "\n",
      "See the caveats in the documentation: https://pandas.pydata.org/pandas-docs/stable/user_guide/indexing.html#returning-a-view-versus-a-copy\n",
      "  df_filtrado['PV_Final-'+str(i)] = df_filtrado['PV_Final'].shift(i)\n",
      "/tmp/ipykernel_27037/3785396640.py:3: SettingWithCopyWarning: \n",
      "A value is trying to be set on a copy of a slice from a DataFrame.\n",
      "Try using .loc[row_indexer,col_indexer] = value instead\n",
      "\n",
      "See the caveats in the documentation: https://pandas.pydata.org/pandas-docs/stable/user_guide/indexing.html#returning-a-view-versus-a-copy\n",
      "  df_filtrado['PV_Final-'+str(i)] = df_filtrado['PV_Final'].shift(i)\n",
      "/tmp/ipykernel_27037/3785396640.py:3: SettingWithCopyWarning: \n",
      "A value is trying to be set on a copy of a slice from a DataFrame.\n",
      "Try using .loc[row_indexer,col_indexer] = value instead\n",
      "\n",
      "See the caveats in the documentation: https://pandas.pydata.org/pandas-docs/stable/user_guide/indexing.html#returning-a-view-versus-a-copy\n",
      "  df_filtrado['PV_Final-'+str(i)] = df_filtrado['PV_Final'].shift(i)\n",
      "/tmp/ipykernel_27037/3785396640.py:3: SettingWithCopyWarning: \n",
      "A value is trying to be set on a copy of a slice from a DataFrame.\n",
      "Try using .loc[row_indexer,col_indexer] = value instead\n",
      "\n",
      "See the caveats in the documentation: https://pandas.pydata.org/pandas-docs/stable/user_guide/indexing.html#returning-a-view-versus-a-copy\n",
      "  df_filtrado['PV_Final-'+str(i)] = df_filtrado['PV_Final'].shift(i)\n",
      "/tmp/ipykernel_27037/3785396640.py:3: SettingWithCopyWarning: \n",
      "A value is trying to be set on a copy of a slice from a DataFrame.\n",
      "Try using .loc[row_indexer,col_indexer] = value instead\n",
      "\n",
      "See the caveats in the documentation: https://pandas.pydata.org/pandas-docs/stable/user_guide/indexing.html#returning-a-view-versus-a-copy\n",
      "  df_filtrado['PV_Final-'+str(i)] = df_filtrado['PV_Final'].shift(i)\n",
      "/tmp/ipykernel_27037/3785396640.py:3: SettingWithCopyWarning: \n",
      "A value is trying to be set on a copy of a slice from a DataFrame.\n",
      "Try using .loc[row_indexer,col_indexer] = value instead\n",
      "\n",
      "See the caveats in the documentation: https://pandas.pydata.org/pandas-docs/stable/user_guide/indexing.html#returning-a-view-versus-a-copy\n",
      "  df_filtrado['PV_Final-'+str(i)] = df_filtrado['PV_Final'].shift(i)\n",
      "/tmp/ipykernel_27037/3785396640.py:4: SettingWithCopyWarning: \n",
      "A value is trying to be set on a copy of a slice from a DataFrame\n",
      "\n",
      "See the caveats in the documentation: https://pandas.pydata.org/pandas-docs/stable/user_guide/indexing.html#returning-a-view-versus-a-copy\n",
      "  df_filtrado.dropna(inplace=True)\n"
     ]
    }
   ],
   "source": [
    "retardo = 10\n",
    "for i in range(1, retardo+1):\n",
    "    df_filtrado['PV_Final-'+str(i)] = df_filtrado['PV_Final'].shift(i)\n",
    "df_filtrado.dropna(inplace=True)\n"
   ]
  },
  {
   "cell_type": "code",
   "execution_count": 7,
   "id": "77ff0286",
   "metadata": {},
   "outputs": [],
   "source": [
    "X = df_filtrado.drop('PV_Final', axis=1)\n",
    "y = df_filtrado['PV_Final']\n",
    "X_train = X.iloc[:-30]\n",
    "X_test = X.iloc[-30:]\n",
    "y_train = y.iloc[:-30]\n",
    "y_test = y.iloc[-30:]"
   ]
  },
  {
   "cell_type": "code",
   "execution_count": 8,
   "id": "9005596f",
   "metadata": {},
   "outputs": [],
   "source": [
    "import numpy as np\n",
    "\n",
    "y_train_log = np.log1p(y_train)\n",
    "y_test_log = np.log1p(y_test)\n",
    "X_train_log = np.log1p(X_train)\n",
    "X_test_log = np.log1p(X_test)\n"
   ]
  },
  {
   "cell_type": "code",
   "execution_count": 9,
   "id": "296c1d1d",
   "metadata": {},
   "outputs": [],
   "source": [
    "from sklearn.metrics import mean_absolute_percentage_error\n",
    "\n",
    "from sklearn.metrics import make_scorer\n",
    "\n",
    "\n",
    "mape_scorer = make_scorer(mean_absolute_percentage_error, greater_is_better=False)\n"
   ]
  },
  {
   "cell_type": "code",
   "execution_count": 10,
   "id": "81a1878a",
   "metadata": {},
   "outputs": [
    {
     "name": "stdout",
     "output_type": "stream",
     "text": [
      "Fitting 5 folds for each of 30 candidates, totalling 150 fits\n",
      "Mejores parámetros: {'subsample': 0.7, 'n_estimators': 100, 'min_samples_split': 10, 'min_samples_leaf': 4, 'max_depth': 3, 'learning_rate': 0.01}\n",
      "Score de validación cruzada (MAPE): 0.06%\n",
      "Score de entrenamiento (MAPE): 0.05%\n",
      "Score de prueba (MAPE): 0.04%\n",
      "MAPE real en prueba (escala original): 54.21%\n"
     ]
    }
   ],
   "source": [
    "from sklearn.ensemble import GradientBoostingRegressor\n",
    "from sklearn.model_selection import RandomizedSearchCV\n",
    "from sklearn.metrics import mean_absolute_percentage_error\n",
    "\n",
    "# Hiperparámetros para Gradient Boosting\n",
    "param_distributions_gb = {\n",
    "    'n_estimators': [100, 200, 300],\n",
    "    'learning_rate': [0.01, 0.05, 0.1],\n",
    "    'max_depth': [3, 5, 7],\n",
    "    'min_samples_split': [2, 5, 10],\n",
    "    'min_samples_leaf': [1, 2, 4],\n",
    "    'subsample': [0.7, 0.8, 1.0]\n",
    "}\n",
    "\n",
    "# Modelo base\n",
    "gb = GradientBoostingRegressor(random_state=42)\n",
    "\n",
    "# Búsqueda aleatoria con validación cruzada y MAPE\n",
    "model_gb = RandomizedSearchCV(\n",
    "    estimator=gb,\n",
    "    param_distributions=param_distributions_gb,\n",
    "    n_iter=30,  # puedes ajustar según el tiempo disponible\n",
    "    scoring=mape_scorer,\n",
    "    cv=5,\n",
    "    n_jobs=-1,\n",
    "    random_state=42,\n",
    "    verbose=1\n",
    ")\n",
    "\n",
    "# Entrenar con la variable logarítmica\n",
    "model_gb.fit(X_train_log, y_train_log)\n",
    "\n",
    "# Mostrar resultados\n",
    "print(\"Mejores parámetros:\", model_gb.best_params_)\n",
    "print(f\"Score de validación cruzada (MAPE): {-model_gb.best_score_:.2f}%\")\n",
    "print(f\"Score de entrenamiento (MAPE): {-model_gb.score(X_train_log, y_train_log):.2f}%\")\n",
    "print(f\"Score de prueba (MAPE): {-model_gb.score(X_test_log, y_test_log):.2f}%\")\n",
    "\n",
    "# Predicción y evaluación en escala original\n",
    "y_pred_gb_log = model_gb.predict(X_test_log)\n",
    "y_pred_gb = np.expm1(y_pred_gb_log)\n",
    "\n",
    "# MAPE real en escala original\n",
    "mape_test_gb = mean_absolute_percentage_error(np.expm1(y_test_log), y_pred_gb)\n",
    "print(f\"MAPE real en prueba (escala original): {mape_test_gb * 100:.2f}%\")\n"
   ]
  },
  {
   "cell_type": "code",
   "execution_count": 11,
   "id": "72d719ee",
   "metadata": {},
   "outputs": [
    {
     "data": {
      "text/plain": [
       "['modelo_gb.pkl']"
      ]
     },
     "execution_count": 11,
     "metadata": {},
     "output_type": "execute_result"
    }
   ],
   "source": [
    "import joblib\n",
    "\n",
    "# Guardar el mejor modelo encontrado en el RandomizedSearchCV\n",
    "joblib.dump(model_gb.best_estimator_, \"modelo_gb.pkl\")\n",
    "# Cargar el modelo guardado"
   ]
  },
  {
   "cell_type": "code",
   "execution_count": 12,
   "id": "7c731a2c",
   "metadata": {},
   "outputs": [
    {
     "name": "stdout",
     "output_type": "stream",
     "text": [
      "Modelo subido a s3://udem-proyecto2/modelos/modelo_gb.pkl\n"
     ]
    }
   ],
   "source": [
    "import boto3\n",
    "from dotenv import load_dotenv\n",
    "\n",
    "\n",
    "load_dotenv(dotenv_path='conf.env')\n",
    "\n",
    "# Obtener las credenciales de las variables de entorno\n",
    "aws_access_key_id = os.getenv('AWS_ACCESS_KEY_ID')\n",
    "aws_secret_access_key = os.getenv('AWS_SECRET_ACCESS_KEY')\n",
    "\n",
    "# Inicializar cliente de S3\n",
    "s3 = boto3.client('s3')\n",
    "\n",
    "# Datos de tu bucket y nombre del archivo\n",
    "bucket_name = 'udem-proyecto2'\n",
    "s3_path = 'modelos/modelo_gb.pkl'\n",
    "\n",
    "# Subida a S3\n",
    "s3.upload_file('modelo_gb.pkl', bucket_name, s3_path)\n",
    "\n",
    "print(f\"Modelo subido a s3://{bucket_name}/{s3_path}\")\n"
   ]
  }
 ],
 "metadata": {
  "kernelspec": {
   "display_name": "Python 3 (ipykernel)",
   "language": "python",
   "name": "python3"
  },
  "language_info": {
   "codemirror_mode": {
    "name": "ipython",
    "version": 3
   },
   "file_extension": ".py",
   "mimetype": "text/x-python",
   "name": "python",
   "nbconvert_exporter": "python",
   "pygments_lexer": "ipython3",
   "version": "3.12.3"
  }
 },
 "nbformat": 4,
 "nbformat_minor": 5
}
