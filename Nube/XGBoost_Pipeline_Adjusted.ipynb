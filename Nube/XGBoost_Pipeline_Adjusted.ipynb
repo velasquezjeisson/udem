{
 "cells": [
  {
   "cell_type": "code",
   "execution_count": null,
   "id": "625b7e65",
   "metadata": {},
   "outputs": [],
   "source": [
    "!pip install -U sagemaker"
   ]
  },
  {
   "cell_type": "code",
   "execution_count": null,
   "id": "49193886",
   "metadata": {},
   "outputs": [],
   "source": [
    "import os\n",
    "import time\n",
    "import boto3\n",
    "import numpy as np\n",
    "import pandas as pd\n",
    "import sagemaker\n",
    "from sagemaker import get_execution_role\n",
    "from sagemaker.workflow.pipeline_context import PipelineSession"
   ]
  },
  {
   "cell_type": "code",
   "execution_count": null,
   "id": "8d16d212",
   "metadata": {},
   "outputs": [],
   "source": [
    "sess = boto3.Session()\n",
    "sm = sess.client(\"sagemaker\")\n",
    "role = get_execution_role()\n",
    "sagemaker_session = sagemaker.Session(boto_session=sess)\n",
    "bucket = sagemaker_session.default_bucket()\n",
    "default_bucket_prefix = sagemaker_session.default_bucket_prefix\n",
    "region = boto3.Session().region_name\n"
   ]
  },
  {
   "cell_type": "code",
   "execution_count": null,
   "id": "47dc5a56",
   "metadata": {},
   "outputs": [],
   "source": [
    "bucket, default_bucket_prefix"
   ]
  },
  {
   "cell_type": "code",
   "execution_count": null,
   "id": "c59a4039",
   "metadata": {},
   "outputs": [],
   "source": [
    "\n",
    "!pip install -U sagemaker xgboost\n"
   ]
  },
  {
   "cell_type": "code",
   "execution_count": null,
   "id": "3359a873",
   "metadata": {},
   "outputs": [],
   "source": [
    "\n",
    "from sagemaker.xgboost.estimator import XGBoost\n",
    "\n",
    "xgb_estimator = XGBoost(\n",
    "    entry_point=\"train.py\",\n",
    "    role=role,\n",
    "    instance_count=1,\n",
    "    instance_type=\"ml.m5.large\",\n",
    "    framework_version=\"1.7-1\",\n",
    "    py_version=\"py3\",\n",
    "    base_job_name=\"xgboost-pipeline-model\",\n",
    "    output_path=f\"s3://{bucket}/{prefix}/training-jobs\"\n",
    ")\n"
   ]
  },
  {
   "cell_type": "code",
   "execution_count": null,
   "id": "fa569772",
   "metadata": {},
   "outputs": [],
   "source": [
    "\n",
    "%%writefile code/train.py\n",
    "\n",
    "import argparse\n",
    "import os\n",
    "import pandas as pd\n",
    "import xgboost as xgb\n",
    "import joblib\n",
    "\n",
    "label_column = \"actual_productivity\"\n",
    "\n",
    "def parse_args():\n",
    "    parser = argparse.ArgumentParser()\n",
    "    parser.add_argument(\"--train\", type=str, default=os.environ.get(\"SM_CHANNEL_TRAIN\"))\n",
    "    parser.add_argument(\"--test\", type=str, default=os.environ.get(\"SM_CHANNEL_TEST\"))\n",
    "    parser.add_argument(\"--sm-model-dir\", type=str, default=os.environ.get(\"SM_MODEL_DIR\"))\n",
    "    return parser.parse_args()\n",
    "\n",
    "if __name__ == \"__main__\":\n",
    "    args = parse_args()\n",
    "\n",
    "    train_df = pd.read_csv(os.path.join(args.train, \"train.csv\"))\n",
    "    test_df = pd.read_csv(os.path.join(args.test, \"test.csv\"))\n",
    "\n",
    "    X_train = train_df.drop(columns=[label_column])\n",
    "    y_train = train_df[label_column]\n",
    "    X_test = test_df.drop(columns=[label_column])\n",
    "    y_test = test_df[label_column]\n",
    "\n",
    "    model = xgb.XGBRegressor(objective=\"reg:squarederror\", n_estimators=100, max_depth=4)\n",
    "    model.fit(X_train, y_train)\n",
    "\n",
    "    joblib.dump(model, os.path.join(args.sm_model_dir, \"xgboost-model.joblib\"))\n"
   ]
  }
 ],
 "metadata": {},
 "nbformat": 4,
 "nbformat_minor": 5
}
