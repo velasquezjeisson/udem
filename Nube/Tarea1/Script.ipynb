{
 "cells": [
  {
   "cell_type": "code",
   "execution_count": 9,
   "metadata": {},
   "outputs": [
    {
     "name": "stdout",
     "output_type": "stream",
     "text": [
      "Requirement already satisfied: boto3 in c:\\users\\acer\\.conda\\envs\\tf2.10\\lib\\site-packages (1.37.22)\n",
      "Requirement already satisfied: botocore<1.38.0,>=1.37.22 in c:\\users\\acer\\.conda\\envs\\tf2.10\\lib\\site-packages (from boto3) (1.37.22)\n",
      "Requirement already satisfied: jmespath<2.0.0,>=0.7.1 in c:\\users\\acer\\.conda\\envs\\tf2.10\\lib\\site-packages (from boto3) (1.0.1)\n",
      "Requirement already satisfied: s3transfer<0.12.0,>=0.11.0 in c:\\users\\acer\\.conda\\envs\\tf2.10\\lib\\site-packages (from boto3) (0.11.4)\n",
      "Requirement already satisfied: python-dateutil<3.0.0,>=2.1 in c:\\users\\acer\\.conda\\envs\\tf2.10\\lib\\site-packages (from botocore<1.38.0,>=1.37.22->boto3) (2.9.0.post0)\n",
      "Requirement already satisfied: urllib3<1.27,>=1.25.4 in c:\\users\\acer\\.conda\\envs\\tf2.10\\lib\\site-packages (from botocore<1.38.0,>=1.37.22->boto3) (1.26.20)\n",
      "Requirement already satisfied: six>=1.5 in c:\\users\\acer\\.conda\\envs\\tf2.10\\lib\\site-packages (from python-dateutil<3.0.0,>=2.1->botocore<1.38.0,>=1.37.22->boto3) (1.17.0)\n"
     ]
    }
   ],
   "source": [
    "!pip install boto3\n"
   ]
  },
  {
   "cell_type": "code",
   "execution_count": 10,
   "metadata": {},
   "outputs": [
    {
     "name": "stdout",
     "output_type": "stream",
     "text": [
      "Requirement already satisfied: python-dotenv in c:\\users\\acer\\.conda\\envs\\tf2.10\\lib\\site-packages (1.0.1)\n"
     ]
    }
   ],
   "source": [
    "!pip install python-dotenv\n"
   ]
  },
  {
   "cell_type": "code",
   "execution_count": 11,
   "metadata": {},
   "outputs": [],
   "source": [
    "import boto3\n",
    "import os\n",
    "from dotenv import load_dotenv\n",
    "from tkinter import Tk, filedialog"
   ]
  },
  {
   "cell_type": "code",
   "execution_count": 12,
   "metadata": {},
   "outputs": [
    {
     "data": {
      "text/plain": [
       "True"
      ]
     },
     "execution_count": 12,
     "metadata": {},
     "output_type": "execute_result"
    }
   ],
   "source": [
    "load_dotenv(dotenv_path='conf.env')\n"
   ]
  },
  {
   "cell_type": "code",
   "execution_count": 13,
   "metadata": {},
   "outputs": [],
   "source": [
    "# Obtener las credenciales de las variables de entorno\n",
    "aws_access_key_id = os.getenv('AWS_ACCESS_KEY_ID')\n",
    "aws_secret_access_key = os.getenv('AWS_SECRET_ACCESS_KEY')"
   ]
  },
  {
   "cell_type": "code",
   "execution_count": 14,
   "metadata": {},
   "outputs": [],
   "source": [
    "# Crear una sesión de boto3\n",
    "s3 = boto3.client(\n",
    "    's3',\n",
    "    aws_access_key_id=aws_access_key_id,\n",
    "    aws_secret_access_key=aws_secret_access_key\n",
    ")"
   ]
  },
  {
   "cell_type": "code",
   "execution_count": 15,
   "metadata": {},
   "outputs": [],
   "source": [
    "# Función para subir archivo a S3\n",
    "def upload_file_to_s3(bucket_name, file_path):\n",
    "    try:\n",
    "        s3.upload_file(file_path, bucket_name, os.path.basename(file_path))\n",
    "        print(f\"Archivo {file_path} subido exitosamente a {bucket_name}\")\n",
    "    except Exception as e:\n",
    "        print(f\"Error al subir el archivo: {e}\")\n"
   ]
  },
  {
   "cell_type": "code",
   "execution_count": 16,
   "metadata": {},
   "outputs": [],
   "source": [
    "# Seleccionar archivo usando Tkinter\n",
    "def select_file():\n",
    "    root = Tk()\n",
    "    root.withdraw()  # Ocultar la ventana principal\n",
    "    file_path = filedialog.askopenfilename()\n",
    "    return file_path"
   ]
  },
  {
   "cell_type": "code",
   "execution_count": null,
   "metadata": {},
   "outputs": [],
   "source": [
    "\n",
    "if __name__ == \"__main__\":\n",
    "    bucket_name = 'jeissonbucket2'\n",
    "    file_path = select_file()\n",
    "    if file_path:\n",
    "        upload_file_to_s3(bucket_name, file_path)\n",
    "    else:\n",
    "        print(\"No se seleccionó ningún archivo.\")"
   ]
  }
 ],
 "metadata": {
  "kernelspec": {
   "display_name": "base",
   "language": "python",
   "name": "python3"
  },
  "language_info": {
   "codemirror_mode": {
    "name": "ipython",
    "version": 3
   },
   "file_extension": ".py",
   "mimetype": "text/x-python",
   "name": "python",
   "nbconvert_exporter": "python",
   "pygments_lexer": "ipython3",
   "version": "3.12.7"
  }
 },
 "nbformat": 4,
 "nbformat_minor": 2
}
